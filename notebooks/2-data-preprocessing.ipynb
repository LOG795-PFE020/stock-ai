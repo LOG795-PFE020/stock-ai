{
 "cells": [
  {
   "cell_type": "markdown",
   "metadata": {},
   "source": [
    "# LSTM Time Series - Stock Price Prediction\n",
    "## Part 2 - Data Preprocessing\n",
    "This notebook focuses on processing the filtered dataset containing the historical prices of Google stocks over the past five years.\n",
    "\n",
    "> **INPUT**: Filtered dataset containing Google's stock prices from the last five years, obtained from the previous phase. <br/>\n",
    "> **OUTPUT**: Preprocessed and transformed data divided into training, validation, and testing subsets, stored in an interim location for the training phase."
   ]
  },
  {
   "cell_type": "markdown",
   "metadata": {},
   "source": [
    "### 1. INITIALIZATION"
   ]
  },
  {
   "cell_type": "code",
   "execution_count": 35,
   "metadata": {},
   "outputs": [],
   "source": [
    "# Import necessary libraries and modules\n",
    "import pandas as pd\n",
    "from sklearn.preprocessing import MinMaxScaler\n",
    "import matplotlib.pyplot as plt\n",
    "import joblib\n",
    "import matplotlib.dates as mdates"
   ]
  },
  {
   "cell_type": "code",
   "execution_count": 36,
   "metadata": {},
   "outputs": [],
   "source": [
    "# Set output width\n",
    "pd.set_option(\"display.width\", 120)"
   ]
  },
  {
   "cell_type": "markdown",
   "metadata": {},
   "source": [
    "### 2. LOADING DATASET"
   ]
  },
  {
   "cell_type": "code",
   "execution_count": 37,
   "metadata": {},
   "outputs": [],
   "source": [
    "# Prepare data file location and name\n",
    "data_file_location = \"..//data//interim//\"\n",
    "data_file_name = \"2025_google_stock_price_recent\"\n",
    "data_file_ext = \"csv\"\n",
    "\n",
    "# Load data file\n",
    "data = pd.read_csv(data_file_location + data_file_name + \".\" + data_file_ext)"
   ]
  },
  {
   "cell_type": "code",
   "execution_count": 38,
   "metadata": {},
   "outputs": [
    {
     "data": {
      "text/plain": [
       "(1535, 7)"
      ]
     },
     "execution_count": 38,
     "metadata": {},
     "output_type": "execute_result"
    }
   ],
   "source": [
    "# Check loaded data shape\n",
    "data.shape"
   ]
  },
  {
   "cell_type": "code",
   "execution_count": 39,
   "metadata": {},
   "outputs": [
    {
     "data": {
      "text/html": [
       "<div>\n",
       "<style scoped>\n",
       "    .dataframe tbody tr th:only-of-type {\n",
       "        vertical-align: middle;\n",
       "    }\n",
       "\n",
       "    .dataframe tbody tr th {\n",
       "        vertical-align: top;\n",
       "    }\n",
       "\n",
       "    .dataframe thead th {\n",
       "        text-align: right;\n",
       "    }\n",
       "</style>\n",
       "<table border=\"1\" class=\"dataframe\">\n",
       "  <thead>\n",
       "    <tr style=\"text-align: right;\">\n",
       "      <th></th>\n",
       "      <th>Date</th>\n",
       "      <th>Open</th>\n",
       "      <th>High</th>\n",
       "      <th>Low</th>\n",
       "      <th>Close</th>\n",
       "      <th>Adj Close</th>\n",
       "      <th>Volume</th>\n",
       "    </tr>\n",
       "  </thead>\n",
       "  <tbody>\n",
       "    <tr>\n",
       "      <th>0</th>\n",
       "      <td>2019-01-02</td>\n",
       "      <td>50.828499</td>\n",
       "      <td>52.616001</td>\n",
       "      <td>50.785500</td>\n",
       "      <td>52.292500</td>\n",
       "      <td>52.105282</td>\n",
       "      <td>30652000</td>\n",
       "    </tr>\n",
       "    <tr>\n",
       "      <th>1</th>\n",
       "      <td>2019-01-03</td>\n",
       "      <td>52.049999</td>\n",
       "      <td>52.848999</td>\n",
       "      <td>50.703499</td>\n",
       "      <td>50.803001</td>\n",
       "      <td>50.621113</td>\n",
       "      <td>36822000</td>\n",
       "    </tr>\n",
       "    <tr>\n",
       "      <th>2</th>\n",
       "      <td>2019-01-04</td>\n",
       "      <td>51.629501</td>\n",
       "      <td>53.542000</td>\n",
       "      <td>51.370899</td>\n",
       "      <td>53.535500</td>\n",
       "      <td>53.343830</td>\n",
       "      <td>41878000</td>\n",
       "    </tr>\n",
       "    <tr>\n",
       "      <th>3</th>\n",
       "      <td>2019-01-07</td>\n",
       "      <td>53.575001</td>\n",
       "      <td>53.700001</td>\n",
       "      <td>52.737999</td>\n",
       "      <td>53.419498</td>\n",
       "      <td>53.228245</td>\n",
       "      <td>39638000</td>\n",
       "    </tr>\n",
       "    <tr>\n",
       "      <th>4</th>\n",
       "      <td>2019-01-08</td>\n",
       "      <td>53.805500</td>\n",
       "      <td>54.228001</td>\n",
       "      <td>53.026501</td>\n",
       "      <td>53.813999</td>\n",
       "      <td>53.621330</td>\n",
       "      <td>35298000</td>\n",
       "    </tr>\n",
       "  </tbody>\n",
       "</table>\n",
       "</div>"
      ],
      "text/plain": [
       "         Date       Open       High        Low      Close  Adj Close    Volume\n",
       "0  2019-01-02  50.828499  52.616001  50.785500  52.292500  52.105282  30652000\n",
       "1  2019-01-03  52.049999  52.848999  50.703499  50.803001  50.621113  36822000\n",
       "2  2019-01-04  51.629501  53.542000  51.370899  53.535500  53.343830  41878000\n",
       "3  2019-01-07  53.575001  53.700001  52.737999  53.419498  53.228245  39638000\n",
       "4  2019-01-08  53.805500  54.228001  53.026501  53.813999  53.621330  35298000"
      ]
     },
     "execution_count": 39,
     "metadata": {},
     "output_type": "execute_result"
    }
   ],
   "source": [
    "# Check loaded data head\n",
    "data.head()"
   ]
  },
  {
   "cell_type": "code",
   "execution_count": 40,
   "metadata": {},
   "outputs": [
    {
     "data": {
      "text/plain": [
       "Date          object\n",
       "Open         float64\n",
       "High         float64\n",
       "Low          float64\n",
       "Close        float64\n",
       "Adj Close    float64\n",
       "Volume         int64\n",
       "dtype: object"
      ]
     },
     "execution_count": 40,
     "metadata": {},
     "output_type": "execute_result"
    }
   ],
   "source": [
    "# Check columns types\n",
    "data.dtypes"
   ]
  },
  {
   "cell_type": "markdown",
   "metadata": {},
   "source": [
    "### 3. DATA PREPROCESSING"
   ]
  },
  {
   "cell_type": "markdown",
   "metadata": {},
   "source": [
    "#### Validate Data Types"
   ]
  },
  {
   "cell_type": "code",
   "execution_count": 41,
   "metadata": {},
   "outputs": [
    {
     "data": {
      "text/plain": [
       "Date         datetime64[ns]\n",
       "Open                float64\n",
       "High                float64\n",
       "Low                 float64\n",
       "Close               float64\n",
       "Adj Close           float64\n",
       "Volume                int64\n",
       "dtype: object"
      ]
     },
     "execution_count": 41,
     "metadata": {},
     "output_type": "execute_result"
    }
   ],
   "source": [
    "# Convert date column to a valid Datetime format\n",
    "data[\"Date\"] = pd.to_datetime(data[\"Date\"])\n",
    "\n",
    "# Check column types\n",
    "data.dtypes"
   ]
  },
  {
   "cell_type": "markdown",
   "metadata": {},
   "source": [
    "#### Select Independent Features"
   ]
  },
  {
   "cell_type": "markdown",
   "metadata": {},
   "source": [
    "The objective of this analysis is to implement a multi-variant prediction, taking into account possible impact of several independent features such as the Open price, Close price and Volume on future stock price performance.\n",
    "\n",
    "Therefore, in this analysis, we will incorporate all the available variables: \n",
    "- Opening price\n",
    "- Highest price\n",
    "- Lowest price\n",
    "- Closing price\n",
    "- Adjusted closing price\n",
    "- Trading volume\n",
    "\n",
    "These features will be utilized to forecast the future opening price."
   ]
  },
  {
   "cell_type": "code",
   "execution_count": 42,
   "metadata": {},
   "outputs": [],
   "source": [
    "# Define selected features and target attribute\n",
    "features = [\"Open\", \"High\", \"Low\",\t\"Close\", \"Adj Close\", \"Volume\"]\n",
    "target = \"Open\""
   ]
  },
  {
   "cell_type": "markdown",
   "metadata": {},
   "source": [
    "#### Create Train, Validation, and Test Datasets"
   ]
  },
  {
   "cell_type": "markdown",
   "metadata": {},
   "source": [
    "To monitor and assess the performance of our model, we will partition the recent stock price dataset into three segments: training, validation, and testing sets.\n",
    "\n",
    "The division will be structured as follows:\n",
    "- **Training dataset:** covering the period from the start of 2019 till June, 2023.\n",
    "- **Validation dataset:** representing the stock prices from July, 2023 till the end of 2023.\n",
    "- **Testing dataset:** representing the stock prices for the first two months of 2024."
   ]
  },
  {
   "cell_type": "code",
   "execution_count": 43,
   "metadata": {},
   "outputs": [],
   "source": [
    "# Define start and end time for each period\n",
    "train_end_date = pd.to_datetime(\"2024-05-30\")\n",
    "validate_start_date = pd.to_datetime(\"2024-06-01\")\n",
    "validate_end_date = pd.to_datetime(\"2024-10-31\")\n",
    "test_start_date = pd.to_datetime(\"2024-11-01\")\n",
    "test_end_date = pd.to_datetime(\"2025-02-09\")\n",
    "\n",
    "# Split dataset into training, validation, and testing\n",
    "data_train = data[data[\"Date\"] <= train_end_date][features]\n",
    "data_train_dates = data[data[\"Date\"] <= train_end_date][\"Date\"]\n",
    "data_validate = data[(data[\"Date\"] >= validate_start_date) & (data[\"Date\"] <= validate_end_date)][features]\n",
    "data_validate_dates = data[(data[\"Date\"] >= validate_start_date) & (data[\"Date\"] <= validate_end_date)][\"Date\"]\n",
    "data_test = data[(data[\"Date\"] >= test_start_date) & (data[\"Date\"] <= test_end_date)][features]\n",
    "data_test_dates = data[(data[\"Date\"] >= test_start_date) & (data[\"Date\"] <= test_end_date)][\"Date\"]"
   ]
  },
  {
   "cell_type": "code",
   "execution_count": 44,
   "metadata": {},
   "outputs": [
    {
     "name": "stdout",
     "output_type": "stream",
     "text": [
      "Training Set: (1362, 6)\n",
      "Validation Set: (106, 6)\n",
      "Testing Set: (66, 6)\n"
     ]
    }
   ],
   "source": [
    "# Display the shape of each dataset\n",
    "print(f\"Training Set: {data_train.shape}\")\n",
    "print(f\"Validation Set: {data_validate.shape}\")\n",
    "print(f\"Testing Set: {data_test.shape}\")"
   ]
  },
  {
   "cell_type": "code",
   "execution_count": 45,
   "metadata": {},
   "outputs": [
    {
     "name": "stdout",
     "output_type": "stream",
     "text": [
      "Training Dataset:\n",
      "        Open       High        Low      Close  Adj Close    Volume\n",
      "0  50.828499  52.616001  50.785500  52.292500  52.105282  30652000\n",
      "1  52.049999  52.848999  50.703499  50.803001  50.621113  36822000\n",
      "2  51.629501  53.542000  51.370899  53.535500  53.343830  41878000\n",
      "3  53.575001  53.700001  52.737999  53.419498  53.228245  39638000\n",
      "4  53.805500  54.228001  53.026501  53.813999  53.621330  35298000\n",
      "Validation Dataset:\n",
      "            Open        High         Low       Close   Adj Close    Volume\n",
      "1363  173.880005  175.860001  172.449997  174.419998  173.795547  20742800\n",
      "1364  174.449997  175.190002  173.220001  175.130005  174.503006  14066600\n",
      "1365  176.535004  177.970001  175.289993  177.070007  176.436066  15233900\n",
      "1366  177.429993  178.710007  177.210007  178.350006  177.711472  14255800\n",
      "1367  178.460007  179.419998  175.789993  175.949997  175.320053  14716300\n",
      "Testing Dataset:\n",
      "            Open        High         Low       Close   Adj Close    Volume\n",
      "1469  171.539993  173.820007  170.309998  172.649994  172.454346  21752900\n",
      "1470  171.240005  171.919998  169.485001  170.679993  170.486572  16194000\n",
      "1471  170.830002  172.097000  170.369995  171.410004  171.215759  12518300\n",
      "1472  175.350006  178.639999  175.039993  178.330002  178.127914  27061500\n",
      "1473  179.110001  182.580002  178.889999  182.279999  182.073441  16730400\n"
     ]
    }
   ],
   "source": [
    "# Display a summary of each dataset\n",
    "print(\"Training Dataset:\")\n",
    "print(data_train.head())\n",
    "print(\"Validation Dataset:\")\n",
    "print(data_validate.head())\n",
    "print(\"Testing Dataset:\")\n",
    "print(data_test.head())"
   ]
  },
  {
   "cell_type": "code",
   "execution_count": 46,
   "metadata": {},
   "outputs": [
    {
     "data": {
      "image/png": "[encoded data removed]",
      "text/plain": [
       "<Figure size 1800x600 with 1 Axes>"
      ]
     },
     "metadata": {},
     "output_type": "display_data"
    }
   ],
   "source": [
    "# Plot stock prices for each data split\n",
    "plt.figure(figsize=(18,6))\n",
    "plt.plot(data_train_dates, data_train[\"Open\"], color=\"cornflowerblue\")\n",
    "plt.plot(data_validate_dates, data_validate[\"Open\"], color=\"orange\")\n",
    "plt.plot(data_test_dates, data_test[\"Open\"], color=\"green\")\n",
    "plt.legend([\"Train Data\", \"Validation Data\", \"Test Data\"])\n",
    "plt.title(\"Data Split for Google Stock Price\")\n",
    "plt.xlabel(\"Samples Over Time\")\n",
    "plt.ylabel(\"Price (USD)\")\n",
    "plt.gca().xaxis.set_major_formatter(mdates.DateFormatter('%Y-%m'))\n",
    "plt.gca().xaxis.set_major_locator(mdates.MonthLocator(interval=2))\n",
    "plt.xticks(rotation=45)\n",
    "plt.grid()"
   ]
  },
  {
   "cell_type": "markdown",
   "metadata": {},
   "source": [
    "#### Data Scaling"
   ]
  },
  {
   "cell_type": "code",
   "execution_count": 47,
   "metadata": {},
   "outputs": [
    {
     "data": {
      "text/html": [
       "<div>\n",
       "<style scoped>\n",
       "    .dataframe tbody tr th:only-of-type {\n",
       "        vertical-align: middle;\n",
       "    }\n",
       "\n",
       "    .dataframe tbody tr th {\n",
       "        vertical-align: top;\n",
       "    }\n",
       "\n",
       "    .dataframe thead th {\n",
       "        text-align: right;\n",
       "    }\n",
       "</style>\n",
       "<table border=\"1\" class=\"dataframe\">\n",
       "  <thead>\n",
       "    <tr style=\"text-align: right;\">\n",
       "      <th></th>\n",
       "      <th>Open</th>\n",
       "      <th>High</th>\n",
       "      <th>Low</th>\n",
       "      <th>Close</th>\n",
       "      <th>Adj Close</th>\n",
       "      <th>Volume</th>\n",
       "    </tr>\n",
       "  </thead>\n",
       "  <tbody>\n",
       "    <tr>\n",
       "      <th>count</th>\n",
       "      <td>1535.000000</td>\n",
       "      <td>1535.000000</td>\n",
       "      <td>1535.000000</td>\n",
       "      <td>1535.000000</td>\n",
       "      <td>1535.000000</td>\n",
       "      <td>1.535000e+03</td>\n",
       "    </tr>\n",
       "    <tr>\n",
       "      <th>mean</th>\n",
       "      <td>111.138629</td>\n",
       "      <td>112.398131</td>\n",
       "      <td>110.019586</td>\n",
       "      <td>111.227409</td>\n",
       "      <td>110.873004</td>\n",
       "      <td>2.740875e+07</td>\n",
       "    </tr>\n",
       "    <tr>\n",
       "      <th>std</th>\n",
       "      <td>38.884015</td>\n",
       "      <td>39.256314</td>\n",
       "      <td>38.528344</td>\n",
       "      <td>38.873259</td>\n",
       "      <td>38.813100</td>\n",
       "      <td>1.265567e+07</td>\n",
       "    </tr>\n",
       "    <tr>\n",
       "      <th>min</th>\n",
       "      <td>50.828499</td>\n",
       "      <td>52.374500</td>\n",
       "      <td>50.676800</td>\n",
       "      <td>50.803001</td>\n",
       "      <td>50.621113</td>\n",
       "      <td>6.809800e+06</td>\n",
       "    </tr>\n",
       "    <tr>\n",
       "      <th>25%</th>\n",
       "      <td>73.979500</td>\n",
       "      <td>74.775375</td>\n",
       "      <td>73.291000</td>\n",
       "      <td>74.237751</td>\n",
       "      <td>73.971958</td>\n",
       "      <td>1.911390e+07</td>\n",
       "    </tr>\n",
       "    <tr>\n",
       "      <th>50%</th>\n",
       "      <td>111.938004</td>\n",
       "      <td>113.664497</td>\n",
       "      <td>110.724297</td>\n",
       "      <td>112.186996</td>\n",
       "      <td>111.785347</td>\n",
       "      <td>2.461700e+07</td>\n",
       "    </tr>\n",
       "    <tr>\n",
       "      <th>75%</th>\n",
       "      <td>139.149254</td>\n",
       "      <td>140.409752</td>\n",
       "      <td>137.925003</td>\n",
       "      <td>139.003502</td>\n",
       "      <td>138.505844</td>\n",
       "      <td>3.174590e+07</td>\n",
       "    </tr>\n",
       "    <tr>\n",
       "      <th>max</th>\n",
       "      <td>204.500000</td>\n",
       "      <td>208.699997</td>\n",
       "      <td>204.259995</td>\n",
       "      <td>207.710007</td>\n",
       "      <td>207.710007</td>\n",
       "      <td>1.241400e+08</td>\n",
       "    </tr>\n",
       "  </tbody>\n",
       "</table>\n",
       "</div>"
      ],
      "text/plain": [
       "              Open         High          Low        Close    Adj Close        Volume\n",
       "count  1535.000000  1535.000000  1535.000000  1535.000000  1535.000000  1.535000e+03\n",
       "mean    111.138629   112.398131   110.019586   111.227409   110.873004  2.740875e+07\n",
       "std      38.884015    39.256314    38.528344    38.873259    38.813100  1.265567e+07\n",
       "min      50.828499    52.374500    50.676800    50.803001    50.621113  6.809800e+06\n",
       "25%      73.979500    74.775375    73.291000    74.237751    73.971958  1.911390e+07\n",
       "50%     111.938004   113.664497   110.724297   112.186996   111.785347  2.461700e+07\n",
       "75%     139.149254   140.409752   137.925003   139.003502   138.505844  3.174590e+07\n",
       "max     204.500000   208.699997   204.259995   207.710007   207.710007  1.241400e+08"
      ]
     },
     "execution_count": 47,
     "metadata": {},
     "output_type": "execute_result"
    }
   ],
   "source": [
    "# Check the distribution of input features\n",
    "data[features].describe()"
   ]
  },
  {
   "cell_type": "markdown",
   "metadata": {},
   "source": [
    "Looking at these details, it's noticeable and anticipated that all price values exhibit similar distributions given they log the price fluctuation on daily basis.\n",
    "\n",
    "Conversely, the trading volume presents a distinct distribution that differs significantly.\n",
    "\n",
    "Accordingly, input features need to be transformed into a unified scale and since the distribution doesn't indicate any outliers, we will use the [0,1] range to normalize all features.\n",
    "\n",
    "To prevent data leakage, we will fit the scaler solely to the training data. Subsequently, we will use this fitted scaler to transform the training, validation, and testing datasets."
   ]
  },
  {
   "cell_type": "code",
   "execution_count": 48,
   "metadata": {},
   "outputs": [],
   "source": [
    "# Initialize scaler with range [0,1]\n",
    "sc = MinMaxScaler(feature_range=(0,1))\n",
    "\n",
    "# Fit and transform scaler to training set\n",
    "data_train_scaled = sc.fit_transform(data_train)\n",
    "\n",
    "# Transform validating and testing datasets\n",
    "data_validate_scaled = sc.transform(data_validate)\n",
    "data_test_scaled = sc.transform(data_test)"
   ]
  },
  {
   "cell_type": "markdown",
   "metadata": {},
   "source": [
    "The scaler employed here will also be utilized in subsequent phases to revert the scaled data back to its original distribution. Therefore, it is essential to save this scaler to a local folder for future use."
   ]
  },
  {
   "cell_type": "code",
   "execution_count": 49,
   "metadata": {},
   "outputs": [
    {
     "data": {
      "text/plain": [
       "['..//models//2025_google_stock_price_scaler.gz']"
      ]
     },
     "execution_count": 49,
     "metadata": {},
     "output_type": "execute_result"
    }
   ],
   "source": [
    "# Prepare scaler model name and location\n",
    "scaler_model_location = \"..//models//\"\n",
    "scaler_model_name = \"2025_google_stock_price_scaler\"\n",
    "scaler_model_ext = \"gz\"\n",
    "\n",
    "# Store scaler model\n",
    "joblib.dump(sc, scaler_model_location + scaler_model_name + \".\" + scaler_model_ext)"
   ]
  },
  {
   "cell_type": "markdown",
   "metadata": {},
   "source": [
    "### 4. STORING PROCESSED DATASETS"
   ]
  },
  {
   "cell_type": "markdown",
   "metadata": {},
   "source": [
    "The training, validation, and testing datasets have been processed and are prepared for training the LSTM model in the next phase.\n",
    "\n",
    "Prior to saving these datasets, it is necessary to reassemble the dates corresponding to each dataset. This will facilitate later evaluation of the model's performance."
   ]
  },
  {
   "cell_type": "code",
   "execution_count": 50,
   "metadata": {},
   "outputs": [],
   "source": [
    "# Combine dates with each corresponding dataset\n",
    "data_train_scaled_final = pd.DataFrame(data_train_scaled, columns=features, index=None)\n",
    "data_train_scaled_final[\"Date\"] = data_train_dates.values\n",
    "\n",
    "data_validate_scaled_final = pd.DataFrame(data_validate_scaled, columns=features, index=None)\n",
    "data_validate_scaled_final[\"Date\"] = data_validate_dates.values\n",
    "\n",
    "data_test_scaled_final = pd.DataFrame(data_test_scaled, columns=features, index=None)\n",
    "data_test_scaled_final[\"Date\"] = data_test_dates.values"
   ]
  },
  {
   "cell_type": "code",
   "execution_count": 51,
   "metadata": {},
   "outputs": [],
   "source": [
    "# Prepare datasets files and location\n",
    "data_file_location = \"..//data//processed//\"\n",
    "data_file_name_train = \"2025_google_stock_price_processed_train\"\n",
    "data_file_name_validate = \"2025_google_stock_price_processed_validate\"\n",
    "data_file_name_test = \"2025_google_stock_price_processed_test\"\n",
    "data_file_ext = \"csv\"\n",
    "\n",
    "# Store datasets\n",
    "data_train_scaled_final.to_csv(data_file_location + data_file_name_train + \".\" + data_file_ext, index=None)\n",
    "data_validate_scaled_final.to_csv(data_file_location + data_file_name_validate + \".\" + data_file_ext, index=None)\n",
    "data_test_scaled_final.to_csv(data_file_location + data_file_name_test + \".\" + data_file_ext, index=None)"
   ]
  }
 ],
 "metadata": {
  "kernelspec": {
   "display_name": "venv",
   "language": "python",
   "name": "python3"
  },
  "language_info": {
   "codemirror_mode": {
    "name": "ipython",
    "version": 3
   },
   "file_extension": ".py",
   "mimetype": "text/x-python",
   "name": "python",
   "nbconvert_exporter": "python",
   "pygments_lexer": "ipython3",
   "version": "3.11.6"
  }
 },
 "nbformat": 4,
 "nbformat_minor": 2
}
